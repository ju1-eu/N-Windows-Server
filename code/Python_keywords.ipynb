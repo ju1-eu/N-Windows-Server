{
 "cells": [
  {
   "cell_type": "markdown",
   "metadata": {},
   "source": [
    "# Python\n",
    "\n",
    "## Keywords"
   ]
  },
  {
   "cell_type": "code",
   "execution_count": null,
   "metadata": {},
   "outputs": [],
   "source": [
    "import math as ma\n",
    "import numpy as np\n",
    "# round(Zahl, Stellen))# 4 Stellen nach Komma runden\n",
    "# print(\"l = \", round(l, 4), \"m\")\n",
    "# Potenz: 2**3 = 2^3\n",
    "# Wissenschaftliche Schreibweise\n",
    "#zahl_1 = float(0.0003648) # Ohm = 0.3648 mOhm = 0.0003648 Ohm = 3.648e-04 Ohm\n",
    "#print(np.format_float_scientific(zahl_1, precision = 4, exp_digits=2))\n",
    "#zahl_2 = float(2.6667e-03) # Ohm = 2.666666 mOhm = 0.002666666 Ohm = 2.6667e-03 Ohm\n",
    "#print(np.format_float_scientific(zahl_2, precision = 4, exp_digits=2))\n",
    "# Schleife: von 1 bis 10 \n",
    "#for i in range (1,11,1):\n",
    "#    print(i*i)"
   ]
  },
  {
   "cell_type": "code",
   "execution_count": null,
   "metadata": {},
   "outputs": [],
   "source": [
    "# boolean true, false\n",
    "log_var_1 = (True == (1 > 2)) # False\n",
    "log_var_2 = (True == (2 > 1)) # True\n",
    "print(log_var_1)\n",
    "print(log_var_2)"
   ]
  },
  {
   "cell_type": "code",
   "execution_count": null,
   "metadata": {},
   "outputs": [],
   "source": [
    "# and, or, not\n",
    "log_var_3 = (True and True) # True\n",
    "log_var_4 = (True or False) # True\n",
    "log_var_5 = (not False) # True\n",
    "print(log_var_3)\n",
    "print(log_var_4)\n",
    "print(log_var_5)"
   ]
  },
  {
   "cell_type": "code",
   "execution_count": null,
   "metadata": {},
   "outputs": [],
   "source": [
    "# break, continue\n",
    "#while True:\n",
    "#    break    # ende\n",
    "#    continue # abbruch"
   ]
  },
  {
   "cell_type": "code",
   "execution_count": null,
   "metadata": {},
   "outputs": [],
   "source": [
    "# class\n",
    "#class Coffee:\n",
    "    # Define your class"
   ]
  },
  {
   "cell_type": "code",
   "execution_count": null,
   "metadata": {},
   "outputs": [],
   "source": [
    "# funktion\n",
    "def say_hi():\n",
    "    print(\"hi\")\n",
    "\n",
    "say_hi()"
   ]
  },
  {
   "cell_type": "code",
   "execution_count": null,
   "metadata": {},
   "outputs": [],
   "source": [
    "# if, elif, else\n",
    "x = int(input(\"Eingabe Zahl: \"))\n",
    "if x > 3: print(\"Big\")\n",
    "elif x == 3: print(\"3\")\n",
    "else: print(\"Small\")"
   ]
  },
  {
   "cell_type": "code",
   "execution_count": null,
   "metadata": {},
   "outputs": [],
   "source": [
    "# For \n",
    "for i in [0,1,2]:\n",
    "    print(i)\n",
    "\n",
    "# While \n",
    "j = 0\n",
    "while j < 3:\n",
    "    print(j); j = j + 1\n"
   ]
  },
  {
   "cell_type": "code",
   "execution_count": null,
   "metadata": {},
   "outputs": [],
   "source": [
    "# lambda\n",
    "(lambda x: x+3)(2) # 5\n",
    "\n",
    "# return\n",
    "def increment(x):\n",
    "    return x + 1\n",
    "\n",
    "increment(4) # returns 5"
   ]
  },
  {
   "cell_type": "code",
   "execution_count": null,
   "metadata": {},
   "outputs": [],
   "source": [
    "# in\n",
    "liste = [2, 39, 42]\n",
    "log_var_6 = 42 in liste # True\n",
    "print(log_var_6)\n",
    "\n",
    "# is\n",
    "y = x = 3\n",
    "log_var_7 = x is y # True\n",
    "print(log_var_7)\n",
    "\n",
    "# None\n",
    "print() is None # True"
   ]
  }
 ],
 "metadata": {
  "interpreter": {
   "hash": "d88b4992e5b06b322ead3277a6c0c22aea73de159b15016e3d5eb1aecc84f355"
  },
  "kernelspec": {
   "display_name": "Python 3",
   "language": "python",
   "name": "python3"
  },
  "language_info": {
   "codemirror_mode": {
    "name": "ipython",
    "version": 3
   },
   "file_extension": ".py",
   "mimetype": "text/x-python",
   "name": "python",
   "nbconvert_exporter": "python",
   "pygments_lexer": "ipython3",
   "version": "3.8.8"
  }
 },
 "nbformat": 4,
 "nbformat_minor": 2
}
